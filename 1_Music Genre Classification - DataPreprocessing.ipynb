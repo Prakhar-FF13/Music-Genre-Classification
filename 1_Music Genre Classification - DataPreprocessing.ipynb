{
 "cells": [
  {
   "cell_type": "markdown",
   "metadata": {},
   "source": [
    "# Music Genre Classification:"
   ]
  },
  {
   "cell_type": "code",
   "execution_count": 10,
   "metadata": {},
   "outputs": [],
   "source": [
    "import numpy as np\n",
    "import pandas as pd\n",
    "import tensorflow as tf\n",
    "import scipy\n",
    "import tarfile\n",
    "import os\n",
    "from pathlib import Path\n",
    "import scipy.io.wavfile\n",
    "import matplotlib.pyplot as plt\n",
    "from matplotlib.pyplot import specgram\n",
    "import subprocess"
   ]
  },
  {
   "cell_type": "markdown",
   "metadata": {},
   "source": [
    "## Data Preprocessing:\n",
    "\n",
    "1. Unpack the tarball file.\n",
    "2. Convert the .au files to wav format.\n",
    "\n",
    "> To unpack the tarfile, we have used the tarfile library.\n",
    "\n",
    "> To convert the .au files to .wav files we have used the ffmpeg converter."
   ]
  },
  {
   "cell_type": "code",
   "execution_count": 6,
   "metadata": {},
   "outputs": [],
   "source": [
    "# Create a Folder Named Data if not already there\n",
    "DATA_DIR = \"data\"\n",
    "if not Path(DATA_DIR).exists():\n",
    "    os.mkdir(DATA_DIR)\n",
    "\n",
    "# Unpack the tarfile , this -> Creates the Genres folder\n",
    "if not Path(\"genres\").exists():\n",
    "    try:\n",
    "        # open file to extract data\n",
    "        f = tarfile.open('data/genres.tar.gz', mode='r:gz')\n",
    "        try:\n",
    "            f.extractall()\n",
    "        except (IOError, err):\n",
    "            print(err)\n",
    "        finally:\n",
    "            f.close()\n",
    "    finally:\n",
    "        f.close()"
   ]
  },
  {
   "cell_type": "code",
   "execution_count": 16,
   "metadata": {},
   "outputs": [],
   "source": [
    "# Converting to WAV Format, we will store this WAV format in data/genres/\n",
    "DATA_DIR = \"genres/\"\n",
    "\n",
    "# Define target directory.\n",
    "target_dir = \"data/genres/\"\n",
    "\n",
    "# Create target Dir.\n",
    "if not Path(target_dir).exists():\n",
    "    os.mkdir(target_dir)"
   ]
  },
  {
   "cell_type": "code",
   "execution_count": 24,
   "metadata": {},
   "outputs": [],
   "source": [
    "# Loop over every folder in genres/\n",
    "for filename in os.listdir(DATA_DIR):\n",
    "    \n",
    "    # Create a folder for each class of music.\n",
    "    if not Path(target_dir+filename).exists():\n",
    "        \n",
    "        # Make a folder for each class\n",
    "        os.mkdir(target_dir+filename)\n",
    "        \n",
    "        cnt = 1\n",
    "        # Converted files will be placed in this folder\n",
    "        target_loc = target_dir+filename+'/'\n",
    "        \n",
    "        # loop over every audio file in genres/filename folder\n",
    "        for audio in os.listdir(DATA_DIR+filename+'/'):\n",
    "            \n",
    "            # Get audio file name\n",
    "            audio_file = DATA_DIR+filename+'/'+audio\n",
    "            \n",
    "            # If audio file ends with .au extension convert and store in target location.\n",
    "            \n",
    "            if audio_file.endswith('.au'):\n",
    "                \n",
    "                # Call the ffmpeg\n",
    "                subprocess.call(['ffmpeg', '-i', audio_file, target_loc+str(cnt)+'.wav'])\n",
    "                cnt += 1"
   ]
  },
  {
   "cell_type": "code",
   "execution_count": null,
   "metadata": {},
   "outputs": [],
   "source": []
  },
  {
   "cell_type": "code",
   "execution_count": null,
   "metadata": {},
   "outputs": [],
   "source": []
  }
 ],
 "metadata": {
  "kernelspec": {
   "display_name": "Python 3",
   "language": "python",
   "name": "python3"
  },
  "language_info": {
   "codemirror_mode": {
    "name": "ipython",
    "version": 3
   },
   "file_extension": ".py",
   "mimetype": "text/x-python",
   "name": "python",
   "nbconvert_exporter": "python",
   "pygments_lexer": "ipython3",
   "version": "3.5.3"
  }
 },
 "nbformat": 4,
 "nbformat_minor": 2
}
